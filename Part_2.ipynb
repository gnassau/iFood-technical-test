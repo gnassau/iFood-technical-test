{
 "cells": [
  {
   "cell_type": "code",
   "execution_count": 47,
   "id": "2f3f1758",
   "metadata": {},
   "outputs": [],
   "source": [
    "# Bibliotecas utilizadas no notebook, tenha certeza de que estão instaladas\n",
    "\n",
    "import pandas as pd\n",
    "from sqlalchemy import create_engine\n",
    "import matplotlib.pyplot as plt\n",
    "from scipy import stats"
   ]
  },
  {
   "cell_type": "markdown",
   "id": "eec2615e",
   "metadata": {},
   "source": [
    "# QUESTÃO 2 - A/B:\n",
    "\n",
    "a) Definir as segmentações que fazem sentido especificamente para o teste A/B que está analisando. <br>\n",
    "\n",
    "b) Estabelecer quais serão os critérios utilizados para cada segmento sugerido no item a). Utilize os critérios/ferramentas que achar necessários, mas lembre-se de explicar o racional utilizado na criação."
   ]
  },
  {
   "cell_type": "markdown",
   "id": "c3177ba4",
   "metadata": {},
   "source": [
    "**1. Plataforma de origem do usuário**\n",
    "\n",
    "**Categorias:** 'ANDROID', 'DESKTOP', 'IOS', 'WINDOWS_PHONE'\n",
    "\n",
    "Segmentar pela plataforma de origem é relevante, pois cada uma apresenta características e comportamentos distintos. Usuários de dispositivos móveis (Android e IOS) tendem a interagir de forma diferente dos usuários de desktop, geralmente buscando experiências mais rápidas e simples. Já no desktop, é possível oferecer interações mais complexas. Compreender as métricas de retenção por plataforma permite criar campanhas e estratégias de marketing personalizadas, além de identificar tendências de crescimento ou abandono em cada plataforma.\n",
    "\n",
    "**2. Cidade/Estado**\n",
    "\n",
    "Segmentar por cidade, mais especificamente por sua densidade populacional pode fazer sentido pois cidades com maior volume populacional indica que há uma maior concentração de restaurantes, lojas e opções de entregas, além da logística ser mais eficiente, o que pode aumentar a competição entre os estabelecimentos e necessitar de estratégias específicas para essas cidades enquanto cidades com menor número de habitantes, o usuário pode valorizar descontos maiores visto que provavemente não existem tantas opções.\n",
    "\n",
    "Além disso, devido ao tamanho do Brasil, o país se caracteriza por uma grande diversidade cultural entre seus estados, com costumes e comportamentos de consumo variados. O que é valorizado em uma cidade pode ser completamente diferente em outra. Por exemplo, em algumas regiões, o foco pode ser em descontos rápidos, enquanto em outras, os consumidores podem valorizar ofertas sazonais ou promoções de fidelidade. Portanto, essas diferenças culturais devem ser consideradas ao planejar as estratégias de ofertas de cupons.\n",
    "\n",
    "**3. Faixa de gasto**\n",
    "\n",
    "A segmentação por faixa de gasto permite identificar diferentes padrões de comportamento: alguns usuários gastam muito em poucas compras, outros fazem várias compras pequenas. Com isso, é possível criar estratégias de cupons e incentivos adequados para manter cada perfil engajado ao longo do tempo, explorando oportunidades específicas para cada segmento.\n",
    "\n",
    "**4. Segmentação por Tipo de Cliente (Novo vs. Recorrente)**\n",
    "\n",
    "A segmentação por tipo de cliente é crucial para otimizar a campanha de cupons, pois clientes novos respondem melhor a descontos maiores para atrair a primeira compra, enquanto clientes recorrentes são mais sensíveis a descontos menores e benefícios exclusivos, como frete grátis, para incentivar compras repetidas e fidelização. Essa abordagem personalizada maximiza a eficiência das estratégias de marketing, ajustando as ofertas conforme o comportamento de cada grupo."
   ]
  },
  {
   "cell_type": "markdown",
   "id": "ddcf9050",
   "metadata": {},
   "source": [
    "# QUESTÃO 2 - C:\n",
    "\n",
    "Analisar os resultados do teste A/B com base nos segmentos definidos nos itens a) e b)."
   ]
  },
  {
   "cell_type": "markdown",
   "id": "abdd9963",
   "metadata": {},
   "source": [
    "## 1. Plataforma de origem do usuário"
   ]
  },
  {
   "cell_type": "markdown",
   "id": "e9743bf4",
   "metadata": {},
   "source": [
    "### Importando dados"
   ]
  },
  {
   "cell_type": "code",
   "execution_count": 48,
   "id": "eb0f6853",
   "metadata": {},
   "outputs": [],
   "source": [
    "df = pd.read_csv('orders_origin_platform.csv')"
   ]
  },
  {
   "cell_type": "code",
   "execution_count": 49,
   "id": "d656a8ad",
   "metadata": {},
   "outputs": [
    {
     "name": "stdout",
     "output_type": "stream",
     "text": [
      "origin_platform\n",
      "ANDROID          359516\n",
      "DESKTOP          136634\n",
      "IOS              348439\n",
      "WINDOWS_PHONE      8128\n",
      "Name: customer_id, dtype: int64\n"
     ]
    }
   ],
   "source": [
    "unique_users_per_platform = df.groupby('origin_platform')['customer_id'].nunique()\n",
    "print(unique_users_per_platform)"
   ]
  },
  {
   "cell_type": "code",
   "execution_count": 50,
   "id": "95129145",
   "metadata": {},
   "outputs": [],
   "source": [
    "# Encontrar o menor número de usuários únicos entre as plataformas\n",
    "min_users = unique_users_per_platform.min()\n",
    "\n",
    "# Selecionar os primeiros 'min_users' usuários únicos de cada plataforma\n",
    "filtered_dfs = []  # Lista para armazenar os dataframes filtrados de cada plataforma\n",
    "for platform in df['origin_platform'].unique():  # Itera sobre cada plataforma única\n",
    "    users = df[df['origin_platform'] == platform]['customer_id'].unique()[:min_users]  # Seleciona os primeiros 'min_users' usuários únicos dessa plataforma\n",
    "    filtered = df[df['origin_platform'] == platform]  # Filtra o dataframe para a plataforma atual\n",
    "    filtered = filtered[filtered['customer_id'].isin(users)]  # Mantém apenas as linhas dos usuários selecionados\n",
    "    filtered_dfs.append(filtered)  # Adiciona o dataframe filtrado à lista\n",
    "\n",
    "df_balanced = pd.concat(filtered_dfs, ignore_index=True)"
   ]
  },
  {
   "cell_type": "code",
   "execution_count": 51,
   "id": "f8a06e58",
   "metadata": {},
   "outputs": [
    {
     "name": "stdout",
     "output_type": "stream",
     "text": [
      "origin_platform\n",
      "IOS              87446\n",
      "DESKTOP          79566\n",
      "ANDROID          75551\n",
      "WINDOWS_PHONE    27876\n",
      "Name: count, dtype: int64\n",
      "origin_platform\n",
      "ANDROID          8127\n",
      "DESKTOP          8127\n",
      "IOS              8127\n",
      "WINDOWS_PHONE    8127\n",
      "Name: customer_id, dtype: int64\n"
     ]
    }
   ],
   "source": [
    "# Contagem de linhas para cada valor de origin_platform\n",
    "platform_counts = df_balanced['origin_platform'].value_counts()\n",
    "print(platform_counts)\n",
    "\n",
    "# Contagem valores únicos de customer_id para cada origin_platform\n",
    "platform_customer_counts = df_balanced.groupby('origin_platform')['customer_id'].nunique()\n",
    "print(platform_customer_counts)"
   ]
  },
  {
   "cell_type": "markdown",
   "id": "6e274370",
   "metadata": {},
   "source": [
    "### Indicador 1: Qtd média de pedidos por usuário único por Plataforma"
   ]
  },
  {
   "cell_type": "code",
   "execution_count": 52,
   "id": "aab80811",
   "metadata": {},
   "outputs": [
    {
     "name": "stdout",
     "output_type": "stream",
     "text": [
      "Média de pedidos por usuário na plataforma IOS: 10.39\n",
      "Média de pedidos por usuário na plataforma DESKTOP: 9.52\n",
      "Média de pedidos por usuário na plataforma ANDROID: 8.90\n",
      "Média de pedidos por usuário na plataforma WINDOWS_PHONE: 3.42\n"
     ]
    }
   ],
   "source": [
    "# Calcular a quantidade de pedidos por customer_id em cada plataforma\n",
    "pedidos_por_usuario_plataforma = df_balanced.groupby(['origin_platform', 'customer_id']).size()\n",
    "\n",
    "# Calcular a média de pedidos por usuário para cada plataforma\n",
    "media_pedidos_por_customer_id = pedidos_por_usuario_plataforma.groupby('origin_platform').mean()\n",
    "\n",
    "for plataforma, media in media_pedidos_por_customer_id.sort_values(ascending=False).items():\n",
    "    print(f\"Média de pedidos por usuário na plataforma {plataforma}: {media:.2f}\")"
   ]
  },
  {
   "cell_type": "markdown",
   "id": "f0bd2cd2",
   "metadata": {},
   "source": [
    "### Indicador 2: Soma do valor total dos pedidos por plataforma"
   ]
  },
  {
   "cell_type": "code",
   "execution_count": 53,
   "id": "8f7e3dfc",
   "metadata": {},
   "outputs": [
    {
     "name": "stdout",
     "output_type": "stream",
     "text": [
      "Soma do valor total dos pedidos por plataforma IOS: R$ 4.621.272,78\n",
      "Soma do valor total dos pedidos por plataforma DESKTOP: R$ 3.665.449,82\n",
      "Soma do valor total dos pedidos por plataforma ANDROID: R$ 3.502.807,57\n",
      "Soma do valor total dos pedidos por plataforma WINDOWS_PHONE: R$ 1.120.142,38\n"
     ]
    }
   ],
   "source": [
    "soma_valor_total_por_plataforma = df_balanced.groupby('origin_platform')['order_total_amount'].sum()\n",
    "\n",
    "for platform, total in soma_valor_total_por_plataforma.sort_values(ascending=False).items():\n",
    "    print(f\"Soma do valor total dos pedidos por plataforma {platform}: R$ {total:,.2f}\".replace(\",\", \"X\").replace(\".\", \",\").replace(\"X\", \".\"))"
   ]
  },
  {
   "cell_type": "markdown",
   "id": "328ac5dd",
   "metadata": {},
   "source": [
    "### Indicador 3: Valor médio gasto por usuário único em cada plataforma"
   ]
  },
  {
   "cell_type": "code",
   "execution_count": 54,
   "id": "83338d32",
   "metadata": {},
   "outputs": [
    {
     "name": "stdout",
     "output_type": "stream",
     "text": [
      "IOS: R$ 244,78\n",
      "DESKTOP: R$ 184,96\n",
      "ANDROID: R$ 176,35\n",
      "WINDOWS_PHONE: R$ 137,28\n"
     ]
    }
   ],
   "source": [
    "# Calcular o valor médio gasto por customer_id em cada plataforma\n",
    "valor_medio_gasto_por_usuario_plataforma = df.groupby(['origin_platform', 'customer_id'])['order_total_amount'].sum().groupby('origin_platform').mean()\n",
    "\n",
    "for plataforma, valor in valor_medio_gasto_por_usuario_plataforma.sort_values(ascending=False).items():\n",
    "    print(f\"{plataforma}: R$ {valor:,.2f}\".replace(\",\", \"X\").replace(\".\", \",\").replace(\"X\", \".\"))"
   ]
  },
  {
   "cell_type": "markdown",
   "id": "4bc35483",
   "metadata": {},
   "source": [
    "### Teste de Hipóteses\n",
    "Hipótese nula (H₀): Não há diferença significativa no total de gastos entre as plataformas. Ou seja, as plataformas não impactam no comportamento de gastos.\n",
    "\n",
    "Hipótese alternativa (H₁): Há uma diferença significativa no total de gastos entre as plataformas. Ou seja, as plataformas impactam no comportamento de gastos."
   ]
  },
  {
   "cell_type": "code",
   "execution_count": 55,
   "id": "7a89b92e",
   "metadata": {},
   "outputs": [
    {
     "name": "stdout",
     "output_type": "stream",
     "text": [
      "Estatísticas de ANOVA: F-stat = 1630.7966, p-value = 0.0000\n",
      "A diferença entre as plataformas é estatisticamente significativa (p-value = 0.0000)\n",
      "A diferença entre as plataformas (Android, iOS, Desktop, Windows Phone) é estatisticamente significativa. Isso significa que o tipo de plataforma tem um impacto no comportamento observado (como o valor total dos pedidos).\n"
     ]
    }
   ],
   "source": [
    "from scipy import stats\n",
    "\n",
    "# Extrair dados para cada plataforma\n",
    "android_data = df[df['origin_platform'] == 'ANDROID']['order_total_amount']\n",
    "ios_data = df[df['origin_platform'] == 'IOS']['order_total_amount']\n",
    "desktop_data = df[df['origin_platform'] == 'DESKTOP']['order_total_amount']\n",
    "windows_phone_data = df[df['origin_platform'] == 'WINDOWS_PHONE']['order_total_amount']\n",
    "\n",
    "# Realizando a ANOVA\n",
    "f_stat, p_value = stats.f_oneway(android_data, ios_data, desktop_data, windows_phone_data)\n",
    "\n",
    "# Exibindo o resultado do teste\n",
    "print(f\"Estatísticas de ANOVA: F-stat = {f_stat:.4f}, p-value = {p_value:.4f}\")\n",
    "\n",
    "# Resultado\n",
    "if p_value < 0.05:\n",
    "    print(f\"A diferença entre as plataformas é estatisticamente significativa (p-value = {p_value:.4f})\")\n",
    "else:\n",
    "    print(f\"A diferença entre as plataformas não é estatisticamente significativa (p-value = {p_value:.4f})\")\n",
    "\n",
    "print(\"A diferença entre as plataformas (Android, iOS, Desktop, Windows Phone) é estatisticamente significativa. Isso significa que o tipo de plataforma tem um impacto no comportamento observado (como o valor total dos pedidos).\")"
   ]
  },
  {
   "cell_type": "markdown",
   "id": "da58a432",
   "metadata": {},
   "source": [
    "## 2. Cidade/Estado"
   ]
  },
  {
   "cell_type": "markdown",
   "id": "74f9efe0",
   "metadata": {},
   "source": [
    "### Importando dados"
   ]
  },
  {
   "cell_type": "code",
   "execution_count": 41,
   "id": "f3e68ea3",
   "metadata": {},
   "outputs": [],
   "source": [
    "df1 = pd.read_csv('orders_delivery_address_city.csv')"
   ]
  },
  {
   "cell_type": "code",
   "execution_count": 42,
   "id": "cf8b088b",
   "metadata": {},
   "outputs": [],
   "source": [
    "# Carregar o arquivo CSV com as cidades e estados e adicionar os estados ao DataFrame principal\n",
    "cidades_estados = pd.read_csv('cidades_estados.csv')\n",
    "df2 = df1.merge(cidades_estados, left_on='delivery_address_city', right_on='Cidade', how='left')\n",
    "df = df2.drop(columns=['Cidade'])"
   ]
  },
  {
   "cell_type": "markdown",
   "id": "f9301f2f",
   "metadata": {},
   "source": [
    "### Indicador 1: Qtd média de pedidos por usuário único por Cidade/Estado"
   ]
  },
  {
   "cell_type": "code",
   "execution_count": 43,
   "id": "92f761c5",
   "metadata": {},
   "outputs": [
    {
     "name": "stdout",
     "output_type": "stream",
     "text": [
      "Média de pedidos por usuário no estado CE: 5.67\n",
      "Média de pedidos por usuário no estado RJ: 4.98\n",
      "Média de pedidos por usuário no estado DF: 4.47\n",
      "Média de pedidos por usuário no estado ES: 4.43\n",
      "Média de pedidos por usuário no estado MS: 4.42\n",
      "Média de pedidos por usuário no estado PE: 4.40\n",
      "Média de pedidos por usuário no estado SP: 4.39\n",
      "Média de pedidos por usuário no estado PB: 4.32\n",
      "Média de pedidos por usuário no estado AM: 4.31\n",
      "Média de pedidos por usuário no estado RS: 4.29\n",
      "Média de pedidos por usuário no estado PR: 4.11\n",
      "Média de pedidos por usuário no estado RN: 4.09\n",
      "Média de pedidos por usuário no estado PA: 4.02\n",
      "Média de pedidos por usuário no estado MG: 3.87\n",
      "Média de pedidos por usuário no estado BA: 3.81\n",
      "Média de pedidos por usuário no estado MA: 3.62\n",
      "Média de pedidos por usuário no estado GO: 3.58\n",
      "Média de pedidos por usuário no estado SC: 2.70\n"
     ]
    }
   ],
   "source": [
    "# Calcular a quantidade de pedidos por customer_id em cada estado\n",
    "pedidos_por_usuario_estado = df.groupby(['Estado', 'customer_id']).size()\n",
    "\n",
    "# Calcular a média de pedidos por usuário para cada estado\n",
    "media_pedidos_por_customer_id_estado = pedidos_por_usuario_estado.groupby('Estado').mean()\n",
    "\n",
    "for estado, media in media_pedidos_por_customer_id_estado.sort_values(ascending=False).head(100).items():\n",
    "    print(f\"Média de pedidos por usuário no estado {estado}: {media:.2f}\")"
   ]
  },
  {
   "cell_type": "code",
   "execution_count": 6,
   "id": "318ab49a",
   "metadata": {},
   "outputs": [
    {
     "name": "stdout",
     "output_type": "stream",
     "text": [
      "Média de pedidos por usuário na cidade FORTALEZA: 5.67\n",
      "Média de pedidos por usuário na cidade JUIZ DE FORA: 5.19\n",
      "Média de pedidos por usuário na cidade LONDRINA: 5.01\n",
      "Média de pedidos por usuário na cidade BAURU: 4.96\n",
      "Média de pedidos por usuário na cidade RIO DE JANEIRO: 4.96\n",
      "Média de pedidos por usuário na cidade SANTOS: 4.92\n",
      "Média de pedidos por usuário na cidade NITEROI: 4.89\n",
      "Média de pedidos por usuário na cidade VITORIA: 4.82\n",
      "Média de pedidos por usuário na cidade MARILIA: 4.74\n",
      "Média de pedidos por usuário na cidade JOAO PESSOA: 4.72\n"
     ]
    }
   ],
   "source": [
    "# Calcular a quantidade de pedidos por customer_id em cada cidade\n",
    "pedidos_por_usuario_plataforma = df.groupby(['delivery_address_city', 'customer_id']).size()\n",
    "\n",
    "# Calcular a média de pedidos por usuário para cada cidade\n",
    "media_pedidos_por_customer_id = pedidos_por_usuario_plataforma.groupby('delivery_address_city').mean()\n",
    "\n",
    "for cidade, media in media_pedidos_por_customer_id.sort_values(ascending=False).head(10).items():\n",
    "    print(f\"Média de pedidos por usuário na cidade {cidade}: {media:.2f}\")"
   ]
  },
  {
   "cell_type": "code",
   "execution_count": null,
   "id": "9c9fd9cc",
   "metadata": {},
   "outputs": [
    {
     "name": "stdout",
     "output_type": "stream",
     "text": [
      "Média de pedidos por usuário na cidade JAPERI: 1.00\n",
      "Média de pedidos por usuário na cidade JUAZEIRO: 1.00\n",
      "Média de pedidos por usuário na cidade ITABORAI: 1.00\n",
      "Média de pedidos por usuário na cidade NOSSA SENHORA DO SOCORRO: 1.00\n",
      "Média de pedidos por usuário na cidade FRANCISCO MORATO: 1.00\n",
      "Média de pedidos por usuário na cidade GUARATINGUETA: 1.00\n",
      "Média de pedidos por usuário na cidade SALTO: 1.00\n",
      "Média de pedidos por usuário na cidade SEROPEDICA: 1.00\n",
      "Média de pedidos por usuário na cidade SAPUCAIA DO SUL: 1.00\n",
      "Média de pedidos por usuário na cidade VARGINHA: 1.00\n"
     ]
    }
   ],
   "source": [
    "# Calcular a média de pedidos por usuário para as 10 cidades com menor média\n",
    "for cidade, media in media_pedidos_por_customer_id.sort_values(ascending=False).tail(10).items():\n",
    "    print(f\"Média de pedidos por usuário na cidade {cidade}: {media:.2f}\")"
   ]
  },
  {
   "cell_type": "markdown",
   "id": "01c9df90",
   "metadata": {},
   "source": [
    "### Indicador 2: Soma do valor total dos pedidos por Cidade/Estado"
   ]
  },
  {
   "cell_type": "code",
   "execution_count": 37,
   "id": "4e1beec4",
   "metadata": {},
   "outputs": [
    {
     "data": {
      "image/png": "[encoded data removed]",
      "text/plain": [
       "<Figure size 1000x600 with 1 Axes>"
      ]
     },
     "metadata": {},
     "output_type": "display_data"
    }
   ],
   "source": [
    "# Soma do valor total dos pedidos por estado\n",
    "soma_valor_total_por_estado = df.groupby('Estado')['order_total_amount'].sum()\n",
    "\n",
    "# Converter os valores para milhões\n",
    "soma_milhoes_estado = soma_valor_total_por_estado / 1_000_000\n",
    "\n",
    "# Selecionar os 10 estados com maior soma\n",
    "top_estados = soma_milhoes_estado.sort_values(ascending=False).head(100)\n",
    "\n",
    "plt.figure(figsize=(10, 6))\n",
    "ax = top_estados.plot(kind='bar')\n",
    "plt.ylabel('')  # Remove o eixo y\n",
    "plt.xlabel('Estado')\n",
    "plt.title('Top 10 estados por soma do valor total dos pedidos (em milhões)')\n",
    "\n",
    "# Adiciona o valor em cima de cada barra\n",
    "for i, v in enumerate(top_estados):\n",
    "    ax.text(i, v + 0.1, f'{v:.2f}', ha='center', va='bottom', fontsize=10)\n",
    "\n",
    "plt.xticks(rotation=0)\n",
    "plt.tight_layout()\n",
    "plt.show()\n",
    "\n",
    "# Criar uma tabela com os top 10 estados que mais gastaram (em milhões)\n",
    "top_estados_tabela = top_estados.reset_index()\n",
    "top_estados_tabela.columns = ['Estado', 'Total gasto (milhões R$)']\n",
    "top_estados_tabela['Total gasto (milhões R$)'] = top_estados_tabela['Total gasto (milhões R$)'].apply(lambda x: f\"R$ {x:,.2f}\".replace(\",\", \"X\").replace(\".\", \",\").replace(\"X\", \".\"))"
   ]
  },
  {
   "cell_type": "code",
   "execution_count": null,
   "id": "4f2620bf",
   "metadata": {},
   "outputs": [
    {
     "data": {
      "image/png": "[encoded data removed]",
      "text/plain": [
       "<Figure size 1000x600 with 1 Axes>"
      ]
     },
     "metadata": {},
     "output_type": "display_data"
    }
   ],
   "source": [
    "# Soma do valor total dos pedidos por estado\n",
    "soma_valor_total_por_estado = df.groupby('Estado')['order_total_amount'].sum()\n",
    "\n",
    "# Converter os valores para milhões\n",
    "soma_milhoes_estado = soma_valor_total_por_estado / 1_000_000\n",
    "\n",
    "# Selecionar os 10 estados com maior soma\n",
    "top_estados = soma_milhoes_estado.sort_values(ascending=False).tail(10)\n",
    "\n",
    "plt.figure(figsize=(10, 6))\n",
    "ax = top_estados.plot(kind='bar')\n",
    "plt.ylabel('')  # Remove o eixo y\n",
    "plt.xlabel('Estado')\n",
    "plt.title('Last 10 estados por soma do valor total dos pedidos (em milhões)')\n",
    "\n",
    "# Adiciona o valor em cima de cada barra\n",
    "for i, v in enumerate(top_estados):\n",
    "    ax.text(i, v + 0.1, f'{v:.2f}', ha='center', va='bottom', fontsize=10)\n",
    "\n",
    "plt.xticks(rotation=0)\n",
    "plt.tight_layout()\n",
    "plt.show()\n",
    "\n",
    "# Criar uma tabela com os top 10 estados que mais gastaram (em milhões)\n",
    "top_estados_tabela = top_estados.reset_index()\n",
    "top_estados_tabela.columns = ['Estado', 'Total gasto (milhões R$)']\n",
    "top_estados_tabela['Total gasto (milhões R$)'] = top_estados_tabela['Total gasto (milhões R$)'].apply(lambda x: f\"R$ {x:,.2f}\".replace(\",\", \"X\").replace(\".\", \",\").replace(\"X\", \".\"))"
   ]
  },
  {
   "cell_type": "code",
   "execution_count": null,
   "id": "e087d692",
   "metadata": {},
   "outputs": [
    {
     "data": {
      "image/png": "[encoded data removed]",
      "text/plain": [
       "<Figure size 1000x600 with 1 Axes>"
      ]
     },
     "metadata": {},
     "output_type": "display_data"
    }
   ],
   "source": [
    "soma_valor_total_por_cidade = df.groupby('delivery_address_city')['order_total_amount'].sum()\n",
    "\n",
    "import matplotlib.pyplot as plt\n",
    "\n",
    "# Converter os valores para milhões\n",
    "soma_milhoes = soma_valor_total_por_cidade / 1_000_000\n",
    "\n",
    "# Selecionar as 10 cidades com maior soma\n",
    "top_cidades = soma_milhoes.sort_values(ascending=False).head(10)\n",
    "\n",
    "plt.figure(figsize=(10, 6))\n",
    "ax = top_cidades.plot(kind='bar')\n",
    "plt.ylabel('')  # Remove o eixo y\n",
    "plt.xlabel('Cidade')\n",
    "plt.title('Top 10 cidades por soma do valor total dos pedidos (em milhões)')\n",
    "\n",
    "# Adiciona o valor em cima de cada barra\n",
    "for i, v in enumerate(top_cidades):\n",
    "    ax.text(i, v + 0.1, f'{v:.2f}', ha='center', va='bottom', fontsize=10)\n",
    "\n",
    "plt.xticks(rotation=45)\n",
    "plt.tight_layout()\n",
    "plt.show()"
   ]
  },
  {
   "cell_type": "code",
   "execution_count": 46,
   "id": "c7103b7c",
   "metadata": {},
   "outputs": [
    {
     "data": {
      "image/png": "[encoded data removed]",
      "text/plain": [
       "<Figure size 1000x600 with 1 Axes>"
      ]
     },
     "metadata": {},
     "output_type": "display_data"
    }
   ],
   "source": [
    "soma_valor_total_por_cidade = df.groupby('delivery_address_city')['order_total_amount'].sum()\n",
    "\n",
    "import matplotlib.pyplot as plt\n",
    "\n",
    "# Converter os valores para milhões\n",
    "soma_milhoes = soma_valor_total_por_cidade\n",
    "\n",
    "# Selecionar as 10 cidades com maior soma\n",
    "top_cidades = soma_milhoes.sort_values(ascending=False).tail(10)\n",
    "\n",
    "plt.figure(figsize=(10, 6))\n",
    "ax = top_cidades.plot(kind='bar')\n",
    "plt.ylabel('')  # Remove o eixo y\n",
    "plt.xlabel('Cidade')\n",
    "plt.title('Last 10 cidades por soma do valor total dos pedidos')\n",
    "\n",
    "# Adiciona o valor em cima de cada barra\n",
    "for i, v in enumerate(top_cidades):\n",
    "    ax.text(i, v + 0.1, f'{v:.2f}', ha='center', va='bottom', fontsize=10)\n",
    "\n",
    "plt.xticks(rotation=45)\n",
    "plt.tight_layout()\n",
    "plt.show()"
   ]
  },
  {
   "cell_type": "markdown",
   "id": "522ed147",
   "metadata": {},
   "source": [
    "### Indicador 3: Valor médio gasto por usuário em cada Cidade/Estado"
   ]
  },
  {
   "cell_type": "code",
   "execution_count": 40,
   "id": "f0fecd99",
   "metadata": {},
   "outputs": [
    {
     "name": "stdout",
     "output_type": "stream",
     "text": [
      "RJ: R$ 262,39\n",
      "SP: R$ 226,70\n",
      "CE: R$ 222,68\n",
      "DF: R$ 199,75\n",
      "PE: R$ 198,08\n",
      "BA: R$ 197,36\n",
      "AM: R$ 192,04\n",
      "PA: R$ 187,49\n",
      "RS: R$ 181,10\n",
      "MS: R$ 178,77\n",
      "ES: R$ 172,70\n",
      "PR: R$ 169,82\n",
      "PB: R$ 167,73\n",
      "RN: R$ 162,40\n",
      "MA: R$ 152,44\n",
      "MG: R$ 146,16\n",
      "GO: R$ 140,72\n",
      "SC: R$ 138,06\n"
     ]
    }
   ],
   "source": [
    "# Calcular o gasto total por usuário em cada estado\n",
    "gasto_por_usuario_estado = df.groupby(['Estado', 'customer_id'])['order_total_amount'].sum()\n",
    "\n",
    "# Calcular o valor médio de gasto por usuário em cada estado\n",
    "valor_medio_gasto_por_usuario_estado = gasto_por_usuario_estado.groupby('Estado').mean()\n",
    "\n",
    "# Exibir os 10 estados com maior valor médio de gasto por usuário, formatando em R$ pt-BR\n",
    "top_10_estados = valor_medio_gasto_por_usuario_estado.sort_values(ascending=False)\n",
    "for estado, valor in top_10_estados.items():\n",
    "    print(f\"{estado}: R$ {valor:,.2f}\".replace(\",\", \"X\").replace(\".\", \",\").replace(\"X\", \".\"))"
   ]
  },
  {
   "cell_type": "code",
   "execution_count": null,
   "id": "5c0066cf",
   "metadata": {},
   "outputs": [
    {
     "name": "stdout",
     "output_type": "stream",
     "text": [
      "ITAJAI: R$ 2.816,88\n",
      "FORMOSA: R$ 283,68\n",
      "SANTANA DE PARNAIBA: R$ 267,61\n",
      "RIO DE JANEIRO: R$ 263,24\n",
      "JACAREI: R$ 257,20\n",
      "SAO PAULO: R$ 250,83\n",
      "NITEROI: R$ 235,90\n",
      "SANTOS: R$ 231,06\n",
      "FORTALEZA: R$ 222,68\n",
      "RECIFE: R$ 204,11\n",
      "SALVADOR: R$ 200,21\n"
     ]
    }
   ],
   "source": [
    "# Calcular o gasto total por usuário em cada cidade\n",
    "gasto_por_usuario_cidade = df.groupby(['delivery_address_city', 'customer_id'])['order_total_amount'].sum()\n",
    "\n",
    "# Calcular o valor médio de gasto por usuário em cada cidade\n",
    "valor_medio_gasto_por_usuario_cidade = gasto_por_usuario_cidade.groupby('delivery_address_city').mean()\n",
    "\n",
    "# Exibir as 10 cidades com maior valor médio de gasto por usuário, formatando em R$ pt-BR\n",
    "top_10 = valor_medio_gasto_por_usuario_cidade.sort_values(ascending=False).head(10)\n",
    "for cidade, valor in top_10.items():\n",
    "    print(f\"{cidade}: R$ {valor:,.2f}\".replace(\",\", \"X\").replace(\".\", \",\").replace(\"X\", \".\"))\n",
    "\n",
    "# Temos um outliers na cidade de Itajai.\n"
   ]
  },
  {
   "cell_type": "markdown",
   "id": "6bff4c2e",
   "metadata": {},
   "source": [
    "### Teste de Hipóteses\n",
    "\n",
    "Hipótese nula (H₀): Não há diferença significativa no total de gastos entre as cidades/estados. Ou seja, a cidade/estado não impacta o comportamento de gastos dos usuários.\n",
    "\n",
    "Hipótese alternativa (H₁): Há uma diferença significativa no total de gastos entre as cidades/estados. Ou seja, a cidade/estado impacta o comportamento de gastos dos usuários."
   ]
  },
  {
   "cell_type": "code",
   "execution_count": 32,
   "id": "e5f6ac52",
   "metadata": {},
   "outputs": [
    {
     "name": "stdout",
     "output_type": "stream",
     "text": [
      "Estatísticas de ANOVA: F-stat = 698.9630, p-value = 0.0000\n",
      "A diferença entre os estados é estatisticamente significativa (p-value = 0.0000)\n"
     ]
    }
   ],
   "source": [
    "from scipy import stats\n",
    "\n",
    "# Selecionar os 10 estados com maior soma do valor total dos pedidos\n",
    "top_estados_nomes = top_estados.index\n",
    "\n",
    "# Criar listas de valores de pedidos para cada estado do top 10\n",
    "estado_data = [df[df['Estado'] == estado]['order_total_amount'] for estado in top_estados_nomes]\n",
    "\n",
    "# Realizar o teste de ANOVA\n",
    "f_stat, p_value = stats.f_oneway(*estado_data)\n",
    "\n",
    "print(f\"Estatísticas de ANOVA: F-stat = {f_stat:.4f}, p-value = {p_value:.4f}\")\n",
    "\n",
    "if p_value < 0.05:\n",
    "    print(f\"A diferença entre os estados é estatisticamente significativa (p-value = {p_value:.4f})\")\n",
    "else:\n",
    "    print(f\"A diferença entre os estados não é estatisticamente significativa (p-value = {p_value:.4f})\")\n"
   ]
  },
  {
   "cell_type": "markdown",
   "id": "76ef14ac",
   "metadata": {},
   "source": [
    "## 3. Faixas de gasto"
   ]
  },
  {
   "cell_type": "markdown",
   "id": "2581478f",
   "metadata": {},
   "source": [
    "### Importando dados"
   ]
  },
  {
   "cell_type": "code",
   "execution_count": null,
   "id": "02f85a47",
   "metadata": {},
   "outputs": [],
   "source": [
    "df = pd.read_csv('orders_origin_platform.csv')"
   ]
  },
  {
   "cell_type": "code",
   "execution_count": null,
   "id": "4497baa6",
   "metadata": {},
   "outputs": [
    {
     "name": "stdout",
     "output_type": "stream",
     "text": [
      "Total de customer_id: 3662321\n",
      "Total de customer_id únicos: 806466\n"
     ]
    }
   ],
   "source": [
    "# Contagem total de customer_id e customer_id únicos para entender  a distribuição dos clientes\n",
    "total_customer_id = df['customer_id'].count()\n",
    "unique_customer_id = df['customer_id'].nunique()\n",
    "\n",
    "print(f\"Total de customer_id: {total_customer_id}\")\n",
    "print(f\"Total de customer_id únicos: {unique_customer_id}\")"
   ]
  },
  {
   "cell_type": "code",
   "execution_count": 3,
   "id": "8e7ecf78",
   "metadata": {},
   "outputs": [
    {
     "name": "stdout",
     "output_type": "stream",
     "text": [
      "order_total_amount\n",
      "Até R$100          370285\n",
      "R$100-300          277182\n",
      "R$300-600           99572\n",
      "R$600-1000          36878\n",
      "Acima de R$1000     22549\n",
      "Name: count, dtype: int64\n",
      "Somatório total de usuários: 806466\n"
     ]
    }
   ],
   "source": [
    "# Análise de gasto por usuário\n",
    "\n",
    "# Definindo faixas de gasto (em reais)\n",
    "bins = [0, 100, 300, 600, 1000, float('inf')]\n",
    "labels = ['Até R$100', 'R$100-300', 'R$300-600', 'R$600-1000', 'Acima de R$1000']\n",
    "\n",
    "# Calcular o gasto total por usuário\n",
    "gasto_por_usuario = df.groupby('customer_id')['order_total_amount'].sum()\n",
    "\n",
    "# Categorizar cada usuário em uma faixa de gasto\n",
    "faixas = pd.cut(gasto_por_usuario, bins=bins, labels=labels, right=False)\n",
    "\n",
    "# Contar o número de customer_id únicos por faixa de gasto\n",
    "unique_customers_per_faixa = faixas.value_counts().sort_index()\n",
    "print(unique_customers_per_faixa)\n",
    "print(\"Somatório total de usuários:\", unique_customers_per_faixa.sum())"
   ]
  },
  {
   "cell_type": "code",
   "execution_count": 4,
   "id": "c17ba4a5",
   "metadata": {},
   "outputs": [],
   "source": [
    "# Adicionando a coluna de faixa de gastos ao dataframe original\n",
    "df['faixa_gastos'] = pd.cut(df['order_total_amount'], bins=bins, labels=labels, right=False)"
   ]
  },
  {
   "cell_type": "markdown",
   "id": "5fc38151",
   "metadata": {},
   "source": [
    "### Indicador 1: Qtd média de pedidos por usuário único por Faixa de gasto"
   ]
  },
  {
   "cell_type": "code",
   "execution_count": 38,
   "id": "84641ca9",
   "metadata": {},
   "outputs": [
    {
     "name": "stderr",
     "output_type": "stream",
     "text": [
      "C:\\Users\\gusta\\AppData\\Local\\Temp\\ipykernel_17064\\2766549346.py:1: FutureWarning: The default of observed=False is deprecated and will be changed to True in a future version of pandas. Pass observed=False to retain current behavior or observed=True to adopt the future default and silence this warning.\n",
      "  media_pedidos_por_faixa = df.groupby('faixa_gastos')['customer_id'].count() / df.groupby('faixa_gastos')['customer_id'].nunique()\n"
     ]
    },
    {
     "name": "stdout",
     "output_type": "stream",
     "text": [
      "Média de pedidos por usuário na faixa Até R$100: 4.41\n",
      "Média de pedidos por usuário na faixa R$100-300: 2.47\n",
      "Média de pedidos por usuário na faixa R$300-600: 1.92\n",
      "Média de pedidos por usuário na faixa Acima de R$1000: 1.72\n",
      "Média de pedidos por usuário na faixa R$600-1000: 1.63\n"
     ]
    }
   ],
   "source": [
    "media_pedidos_por_faixa = df.groupby('faixa_gastos')['customer_id'].count() / df.groupby('faixa_gastos')['customer_id'].nunique()\n",
    "\n",
    "for faixa, media in media_pedidos_por_faixa.sort_values(ascending=False).items():\n",
    "    print(f\"Média de pedidos por usuário na faixa {faixa}: {media:.2f}\")"
   ]
  },
  {
   "cell_type": "markdown",
   "id": "28c8d2a9",
   "metadata": {},
   "source": [
    "### Indicador 2: Soma do valor total dos pedidos por faixa de gasto"
   ]
  },
  {
   "cell_type": "code",
   "execution_count": 39,
   "id": "93683ea7",
   "metadata": {},
   "outputs": [
    {
     "name": "stdout",
     "output_type": "stream",
     "text": [
      "Soma valor total Até R$100: R$ 142.081.691,33 (80,81%)\n",
      "Soma valor total R$100-300: R$ 30.994.490,06 (17,63%)\n",
      "Soma valor total R$300-600: R$ 1.851.003,67 (1,05%)\n",
      "Soma valor total R$600-1000: R$ 188.426,69 (0,11%)\n",
      "Soma valor total Acima de R$1000: R$ 717.156,10 (0,41%)\n"
     ]
    },
    {
     "name": "stderr",
     "output_type": "stream",
     "text": [
      "C:\\Users\\gusta\\AppData\\Local\\Temp\\ipykernel_17064\\1272090740.py:1: FutureWarning: The default of observed=False is deprecated and will be changed to True in a future version of pandas. Pass observed=False to retain current behavior or observed=True to adopt the future default and silence this warning.\n",
      "  soma_valor_total_por_faixa = df.groupby('faixa_gastos')['order_total_amount'].sum()\n"
     ]
    }
   ],
   "source": [
    "soma_valor_total_por_faixa = df.groupby('faixa_gastos')['order_total_amount'].sum()\n",
    "for faixa, total in soma_valor_total_por_faixa.items():\n",
    "    percentual = (total / soma_valor_total_por_faixa.sum()) * 100\n",
    "    print(f\"Soma valor total {faixa}: R$ {total:,.2f} ({percentual:.2f}%)\".replace(\",\", \"X\").replace(\".\", \",\").replace(\"X\", \".\"))\n"
   ]
  },
  {
   "cell_type": "markdown",
   "id": "0b6edcee",
   "metadata": {},
   "source": [
    "### Indicador 3: Valor médio por faixa de gasto"
   ]
  },
  {
   "cell_type": "code",
   "execution_count": 43,
   "id": "2f1724fb",
   "metadata": {},
   "outputs": [
    {
     "name": "stderr",
     "output_type": "stream",
     "text": [
      "C:\\Users\\gusta\\AppData\\Local\\Temp\\ipykernel_17064\\744599360.py:2: FutureWarning: The default of observed=False is deprecated and will be changed to True in a future version of pandas. Pass observed=False to retain current behavior or observed=True to adopt the future default and silence this warning.\n",
      "  valores_por_faixa = df.groupby('faixa_gastos')['order_total_amount'].apply(list)\n"
     ]
    },
    {
     "name": "stdout",
     "output_type": "stream",
     "text": [
      "      faixa_gastos  valor médio\n",
      "0        Até R$100     R$ 41,29\n",
      "1        R$100-300    R$ 137,96\n",
      "2        R$300-600    R$ 375,61\n",
      "3       R$600-1000    R$ 724,72\n",
      "4  Acima de R$1000  R$ 6.765,62\n"
     ]
    }
   ],
   "source": [
    "# Lista dos valores gastos por usuário em cada faixa\n",
    "valores_por_faixa = df.groupby('faixa_gastos')['order_total_amount'].apply(list)\n",
    "\n",
    "# Média dos valores gastos por usuário em cada faixa\n",
    "media_valores_por_faixa = valores_por_faixa.apply(lambda x: sum(x) / len(x) if len(x) > 0 else 0)\n",
    "\n",
    "resultado_formatado = media_valores_por_faixa.reset_index()\n",
    "resultado_formatado.columns = ['faixa_gastos', 'valor médio']\n",
    "resultado_formatado['valor médio'] = resultado_formatado['valor médio'].apply(lambda x: f\"R$ {x:,.2f}\".replace(\",\", \"X\").replace(\".\", \",\").replace(\"X\", \".\"))\n",
    "print(resultado_formatado)\n"
   ]
  },
  {
   "cell_type": "markdown",
   "id": "cb1a5792",
   "metadata": {},
   "source": [
    "### Teste de Hipóteses\n",
    "\n",
    "Hipótese nula (H₀): Não há diferença significativa no total de gastos entre as faixas de gasto. Ou seja, a faixa de gasto não impacta o comportamento de gastos dos usuários.\n",
    "\n",
    "Hipótese alternativa (H₁): Há uma diferença significativa no total de gastos entre as faixas de gasto. Ou seja, a faixa de gasto impacta o comportamento de gastos dos usuários."
   ]
  },
  {
   "cell_type": "code",
   "execution_count": 45,
   "id": "56f1ea3d",
   "metadata": {},
   "outputs": [
    {
     "name": "stderr",
     "output_type": "stream",
     "text": [
      "C:\\Users\\gusta\\AppData\\Local\\Temp\\ipykernel_17064\\1244182478.py:4: FutureWarning: The default of observed=False is deprecated and will be changed to True in a future version of pandas. Pass observed=False to retain current behavior or observed=True to adopt the future default and silence this warning.\n",
      "  faixas_gasto = df.groupby(faixas)['order_total_amount'].sum()\n"
     ]
    },
    {
     "name": "stdout",
     "output_type": "stream",
     "text": [
      "Estatísticas de ANOVA: F-stat = 150434.4802, p-value = 0.0000\n",
      "A diferença entre as plataformas é estatisticamente significativa (p-value = 0.0000)\n",
      "A diferença entre as faixas de gasto é estatisticamente significativa, ou seja, a faixa de gasto que o usuário se encontra tem um impacto no comportamento observado (como o valor total dos pedidos).\n"
     ]
    }
   ],
   "source": [
    "from scipy import stats\n",
    "\n",
    "# Agrupar os dados pelas faixas e obter os dados de gasto total\n",
    "faixas_gasto = df.groupby(faixas)['order_total_amount'].sum()\n",
    "\n",
    "# Criar as listas de dados para cada faixa\n",
    "faixa_data = [df[df['faixa_gastos'] == faixa]['order_total_amount'] for faixa in labels]\n",
    "\n",
    "# Realizar o teste de ANOVA\n",
    "f_stat, p_value = stats.f_oneway(*faixa_data)\n",
    "\n",
    "# Exibir os resultados do teste\n",
    "print(f\"Estatísticas de ANOVA: F-stat = {f_stat:.4f}, p-value = {p_value:.4f}\")\n",
    "\n",
    "# Resultado\n",
    "if p_value < 0.05:\n",
    "    print(f\"A diferença entre as plataformas é estatisticamente significativa (p-value = {p_value:.4f})\")\n",
    "else:\n",
    "    print(f\"A diferença entre as plataformas não é estatisticamente significativa (p-value = {p_value:.4f})\")\n",
    "\n",
    "print(\"A diferença entre as faixas de gasto é estatisticamente significativa, ou seja, a faixa de gasto que o usuário se encontra tem um impacto no comportamento observado (como o valor total dos pedidos).\")\n"
   ]
  }
 ],
 "metadata": {
  "kernelspec": {
   "display_name": ".venv",
   "language": "python",
   "name": "python3"
  },
  "language_info": {
   "codemirror_mode": {
    "name": "ipython",
    "version": 3
   },
   "file_extension": ".py",
   "mimetype": "text/x-python",
   "name": "python",
   "nbconvert_exporter": "python",
   "pygments_lexer": "ipython3",
   "version": "3.12.10"
  }
 },
 "nbformat": 4,
 "nbformat_minor": 5
}
