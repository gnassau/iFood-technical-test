{
 "cells": [
  {
   "cell_type": "markdown",
   "id": "e67902ef",
   "metadata": {},
   "source": [
    "# Manipulaçao inicial dos dados\n",
    "Precisei jogar os dados Json em um banco de dados, tratá-los removendo informações desnecessárias para minha análise, e então puxá-los novamente via código. Salvei em csv para que a consulta fosse mais àgil."
   ]
  },
  {
   "cell_type": "code",
   "execution_count": null,
   "id": "6c8c70a3",
   "metadata": {},
   "outputs": [],
   "source": [
    "# Bibliotecas utilizadas no notebook, tenha certeza de que estão instaladas\n",
    "\n",
    "import pandas as pd\n",
    "from sqlalchemy import create_engine\n",
    "import matplotlib.pyplot as plt\n",
    "from scipy import stats"
   ]
  },
  {
   "cell_type": "code",
   "execution_count": null,
   "id": "a7cb1825",
   "metadata": {},
   "outputs": [],
   "source": [
    "# Banco de dados GCP\n",
    "\n",
    "# Dados do banco de dados (substitua com suas credenciais)\n",
    "db_user = 'postgres'\n",
    "db_password = '1234'\n",
    "db_host = '104.154.71.21'  # Pode ser o endereço IP do servidor ou o hostname\n",
    "db_port = '5432'  # Porta padrão do PostgreSQL\n",
    "db_name = 'postgres'\n",
    "\n",
    "# String de conexão com SQLAlchemy\n",
    "connection_string = f'postgresql://{db_user}:{db_password}@{db_host}:{db_port}/{db_name}'\n",
    "\n",
    "# Criar engine de conexão\n",
    "engine = create_engine(connection_string)"
   ]
  },
  {
   "cell_type": "code",
   "execution_count": null,
   "id": "282aa7a5",
   "metadata": {},
   "outputs": [],
   "source": [
    "# Banco de dados PostgreSQL local\n",
    "\n",
    "# Dados do banco de dados (substitua com suas credenciais)\n",
    "db_user = 'postgres'\n",
    "db_password = '1234'\n",
    "db_host = 'localhost'  # Pode ser o endereço IP do servidor ou o hostname\n",
    "db_port = '5432'  # Porta padrão do PostgreSQL\n",
    "db_name = 'iFood'\n",
    "\n",
    "# String de conexão com SQLAlchemy\n",
    "connection_string = f'postgresql://{db_user}:{db_password}@{db_host}:{db_port}/{db_name}'\n",
    "\n",
    "# Criar engine de conexão\n",
    "engine = create_engine(connection_string)\n"
   ]
  },
  {
   "cell_type": "code",
   "execution_count": null,
   "id": "1e6ed49d",
   "metadata": {},
   "outputs": [],
   "source": [
    "# Puxando tabela orders_ab_test do banco de dados\n",
    "\n",
    "query = \"\"\"select * from public.orders_ab_test\"\"\"\n",
    "df = pd.read_sql(query, engine)"
   ]
  },
  {
   "cell_type": "code",
   "execution_count": null,
   "id": "21110b75",
   "metadata": {},
   "outputs": [],
   "source": [
    "df.to_csv('orders_ab_test.csv', index=False)\n"
   ]
  },
  {
   "cell_type": "markdown",
   "id": "6622e728",
   "metadata": {},
   "source": [
    "# Pode começar a rodar aqui!\n",
    "desde que os arquivos CSV estejam no mesmo diretório do notebook."
   ]
  },
  {
   "cell_type": "code",
   "execution_count": 5,
   "id": "7c552a77",
   "metadata": {},
   "outputs": [],
   "source": [
    "# Bibliotecas utilizadas no notebook, tenha certeza de que estão instaladas\n",
    "\n",
    "import pandas as pd\n",
    "from sqlalchemy import create_engine\n",
    "import matplotlib.pyplot as plt\n",
    "from scipy import stats"
   ]
  },
  {
   "cell_type": "code",
   "execution_count": 6,
   "id": "60a6346b",
   "metadata": {},
   "outputs": [],
   "source": [
    "df = pd.read_csv('orders_ab_test.csv')"
   ]
  },
  {
   "cell_type": "code",
   "execution_count": 7,
   "id": "191b77cd",
   "metadata": {},
   "outputs": [
    {
     "name": "stdout",
     "output_type": "stream",
     "text": [
      "Usuários únicos no grupo controle: 360542\n",
      "Usuários únicos no grupo target: 445924\n"
     ]
    }
   ],
   "source": [
    "usuarios_unicos_controle = df[df['is_target'] == 'control']['customer_id'].nunique()\n",
    "usuarios_unicos_target = df[df['is_target'] == 'target']['customer_id'].nunique()\n",
    "\n",
    "print(f\"Usuários únicos no grupo controle: {usuarios_unicos_controle}\")\n",
    "print(f\"Usuários únicos no grupo target: {usuarios_unicos_target}\")"
   ]
  },
  {
   "cell_type": "code",
   "execution_count": 8,
   "id": "616a6a91",
   "metadata": {
    "vscode": {
     "languageId": "ruby"
    }
   },
   "outputs": [
    {
     "name": "stdout",
     "output_type": "stream",
     "text": [
      "Total de usuários únicos no grupo control: 360542\n",
      "Total de usuários únicos no grupo target: 360542\n",
      "Total de linhas em total_linhas_filtrado_control: 1525576\n",
      "Total de linhas em total_linhas_filtrado_target: 1727049\n",
      "Total de linhas em df_filtrado: 3252625\n"
     ]
    }
   ],
   "source": [
    "# Selecionar 360542 usuários únicos de cada grupo (control e target)\n",
    "usuarios_unicos_control = df[df['is_target'] == 'control']['customer_id'].drop_duplicates().sample(n=360542, random_state=42)\n",
    "usuarios_unicos_target = df[df['is_target'] == 'target']['customer_id'].drop_duplicates().sample(n=360542, random_state=42)\n",
    "\n",
    "# Filtrar o dataframe original para manter apenas esses usuários\n",
    "df_filtrado = df[df['customer_id'].isin(usuarios_unicos_control) | df['customer_id'].isin(usuarios_unicos_target)]\n",
    "\n",
    "# Contar a quantidade de usuários únicos nos grupos control e target do df_filtrado\n",
    "usuarios_unicos_control_filtrado = df_filtrado[df_filtrado['is_target'] == 'control']['customer_id'].nunique()\n",
    "usuarios_unicos_target_filtrado = df_filtrado[df_filtrado['is_target'] == 'target']['customer_id'].nunique()\n",
    "\n",
    "# Contar a quantidade total de linhas do df_filtrado\n",
    "total_linhas_filtrado_target = len(df_filtrado[df_filtrado['is_target'].isin(['target'])])\n",
    "total_linhas_filtrado_control = len(df_filtrado[df_filtrado['is_target'].isin(['control'])])\n",
    "total_linhas_filtrado = len(df_filtrado)\n",
    "\n",
    "print(f\"Total de usuários únicos no grupo control: {usuarios_unicos_control_filtrado}\")\n",
    "print(f\"Total de usuários únicos no grupo target: {usuarios_unicos_target_filtrado}\")\n",
    "print(f\"Total de linhas em total_linhas_filtrado_control: {total_linhas_filtrado_control}\")\n",
    "print(f\"Total de linhas em total_linhas_filtrado_target: {total_linhas_filtrado_target}\")\n",
    "print(f\"Total de linhas em df_filtrado: {total_linhas_filtrado}\")"
   ]
  },
  {
   "cell_type": "code",
   "execution_count": 9,
   "id": "ee6a6e0e",
   "metadata": {},
   "outputs": [
    {
     "data": {
      "text/plain": [
       "Index(['customer_id', 'merchant_id', 'order_created_at', 'order_total_amount',\n",
       "       'is_target'],\n",
       "      dtype='object')"
      ]
     },
     "execution_count": 9,
     "metadata": {},
     "output_type": "execute_result"
    }
   ],
   "source": [
    "df = df_filtrado\n",
    "df.columns"
   ]
  },
  {
   "cell_type": "code",
   "execution_count": 10,
   "id": "871d6865",
   "metadata": {},
   "outputs": [
    {
     "name": "stdout",
     "output_type": "stream",
     "text": [
      "controle: 1525576 linhas\n",
      "target: 1727049 linhas\n"
     ]
    }
   ],
   "source": [
    "# Selecionar 1525576 linhas aleatórias do grupo 'target' para igualar o tamanho do grupo 'controle'\n",
    "controle = df[df['is_target'] == 'control']\n",
    "target = df[df['is_target'] == 'target']\n",
    "\n",
    "print(f\"controle: {len(controle)} linhas\")\n",
    "print(f\"target: {len(target)} linhas\")"
   ]
  },
  {
   "cell_type": "markdown",
   "id": "def05ee3",
   "metadata": {},
   "source": [
    "# Questão 1 - A:\n",
    "Defina os indicadores relevantes para mensurar o sucesso da campanha e analise se ela teve impacto significativo dentro do período avaliado."
   ]
  },
  {
   "cell_type": "markdown",
   "id": "a104592d",
   "metadata": {},
   "source": [
    "## Indicador 1: Qtd média de pedidos por usuário único por grupo"
   ]
  },
  {
   "cell_type": "code",
   "execution_count": 9,
   "id": "fef6f507",
   "metadata": {},
   "outputs": [
    {
     "name": "stdout",
     "output_type": "stream",
     "text": [
      "Média de pedidos por usuário grupo controle: 4.23\n",
      "Média de pedidos por usuário grupo target: 4.79\n"
     ]
    }
   ],
   "source": [
    "# Contar as ocorrências de 'customer_id' para controle e target\n",
    "count_customer_id_controle = controle['customer_id'].value_counts()\n",
    "count_customer_id_target = target['customer_id'].value_counts()\n",
    "\n",
    "# Calcular a média das ocorrências\n",
    "media_ocorrencias_controle = count_customer_id_controle.mean()\n",
    "media_ocorrencias_target = count_customer_id_target.mean()\n",
    "\n",
    "# Exibir os resultados\n",
    "print(f\"Média de pedidos por usuário grupo controle: {media_ocorrencias_controle:.2f}\")\n",
    "print(f\"Média de pedidos por usuário grupo target: {media_ocorrencias_target:.2f}\")"
   ]
  },
  {
   "cell_type": "markdown",
   "id": "95d57e2d",
   "metadata": {},
   "source": [
    "## Indicador 2: Soma do valor total dos pedidos por usuário"
   ]
  },
  {
   "cell_type": "code",
   "execution_count": 10,
   "id": "6148e798",
   "metadata": {},
   "outputs": [
    {
     "name": "stdout",
     "output_type": "stream",
     "text": [
      "Soma do total dos pedidos grupo controle: R$ 73.071.872,88\n",
      "Soma do total dos pedidos grupo target: R$ 82.444.051,85\n",
      "Diff: target - controle = R$ 9.372.178,97\n"
     ]
    }
   ],
   "source": [
    "soma_controle = controle['order_total_amount'].sum()\n",
    "soma_target = target['order_total_amount'].sum()\n",
    "\n",
    "print(f\"Soma do total dos pedidos grupo controle: R$ {soma_controle:,.2f}\".replace(\",\", \"X\").replace(\".\", \",\").replace(\"X\", \".\"))\n",
    "print(f\"Soma do total dos pedidos grupo target: R$ {soma_target:,.2f}\".replace(\",\", \"X\").replace(\".\", \",\").replace(\"X\", \".\"))\n",
    "print(f\"Diff: target - controle = R$ {(soma_target - soma_controle):,.2f}\".replace(\",\", \"X\").replace(\".\", \",\").replace(\"X\", \".\"))"
   ]
  },
  {
   "cell_type": "markdown",
   "id": "4be56c17",
   "metadata": {},
   "source": [
    "## Indicador 3: Valor médio gasto por usuário"
   ]
  },
  {
   "cell_type": "code",
   "execution_count": 109,
   "id": "f6e32848",
   "metadata": {},
   "outputs": [
    {
     "name": "stdout",
     "output_type": "stream",
     "text": [
      "Valor médio gasto por usuário grupo controle: 48.01\n",
      "Valor médio gasto por usuário grupo target: 47.87\n"
     ]
    }
   ],
   "source": [
    "# Calcular o valor médio gasto por customer_id para cada grupo\n",
    "media_gasto_controle = controle.groupby('customer_id')['order_total_amount'].mean().mean()\n",
    "media_gasto_target = target.groupby('customer_id')['order_total_amount'].mean().mean()\n",
    "\n",
    "print(f\"Valor médio gasto por usuário grupo controle: {media_gasto_controle:.2f}\")\n",
    "print(f\"Valor médio gasto por usuário grupo target: {media_gasto_target:.2f}\")"
   ]
  },
  {
   "cell_type": "markdown",
   "id": "0e73f2e7",
   "metadata": {},
   "source": [
    "## Teste de Hipóteses\n",
    "Hipótese nula (H0): Não houve diferença significativa entre o grupo de controle e o grupo de teste.\n",
    "\n",
    "Hipótese alternativa (H1): Houve uma diferença significativa entre o grupo de controle e o grupo de teste (ou seja, a campanha teve impacto)."
   ]
  },
  {
   "cell_type": "markdown",
   "id": "1e860f77",
   "metadata": {},
   "source": [
    "### Histogramas"
   ]
  },
  {
   "cell_type": "code",
   "execution_count": null,
   "id": "ce6ffc26",
   "metadata": {},
   "outputs": [
    {
     "data": {
      "image/png": "[encoded data removed]",
      "text/plain": [
       "<Figure size 1200x500 with 1 Axes>"
      ]
     },
     "metadata": {},
     "output_type": "display_data"
    }
   ],
   "source": [
    "# Histograma do valor dos pedidos por grupo controle (até R$3000)\n",
    "\n",
    "plt.figure(figsize=(12, 5))\n",
    "\n",
    "plt.hist(controle['order_total_amount'][controle['order_total_amount'] <= 3000], bins=50, alpha=0.6, label='Controle', color='blue')\n",
    "\n",
    "plt.xlabel('Valor do Pedido')\n",
    "plt.ylabel('Frequência')\n",
    "plt.title('Histograma do Valor dos Pedidos por Grupo (até R$3000)')\n",
    "plt.legend()\n",
    "plt.show()"
   ]
  },
  {
   "cell_type": "code",
   "execution_count": 43,
   "id": "8757736c",
   "metadata": {},
   "outputs": [
    {
     "data": {
      "image/png": "[encoded data removed]",
      "text/plain": [
       "<Figure size 1200x500 with 1 Axes>"
      ]
     },
     "metadata": {},
     "output_type": "display_data"
    }
   ],
   "source": [
    "# Histograma do valor dos pedidos por grupo target (até R$3000)\n",
    "\n",
    "plt.figure(figsize=(12, 5))\n",
    "\n",
    "# plt.hist(controle['order_total_amount'][controle['order_total_amount'] <= 3000], bins=50, alpha=0.6, label='Controle', color='blue')\n",
    "plt.hist(target['order_total_amount'][target['order_total_amount'] <= 1000], bins=50, alpha=0.6, label='Target', color='orange')\n",
    "\n",
    "plt.xlabel('Valor do Pedido')\n",
    "plt.ylabel('Frequência')\n",
    "plt.title('Histograma do Valor dos Pedidos por Grupo (até R$3000)')\n",
    "plt.legend()\n",
    "plt.show()"
   ]
  },
  {
   "cell_type": "markdown",
   "id": "ffd4a266",
   "metadata": {},
   "source": [
    "#### Observações"
   ]
  },
  {
   "cell_type": "markdown",
   "id": "6d96178e",
   "metadata": {},
   "source": [
    "Ambos os gráficos apresentam uma distribuição assimétrica à direita, o que significa que a maior parte dos pedidos está concentrada em valores baixos, mas há uma pequena quantidade de pedidos com valores significativamente mais altos."
   ]
  },
  {
   "cell_type": "markdown",
   "id": "d515c120",
   "metadata": {},
   "source": [
    "### Métricas de cada grupo"
   ]
  },
  {
   "cell_type": "code",
   "execution_count": 46,
   "id": "90c41b0a",
   "metadata": {},
   "outputs": [
    {
     "name": "stdout",
     "output_type": "stream",
     "text": [
      "Grupo Controle:\n",
      "count: 1.525.576\n",
      "mean: R$ 47,90\n",
      "std: R$ 165,05\n",
      "min: R$ 0,00\n",
      "25%: R$ 26,99\n",
      "50%: R$ 39,90\n",
      "75%: R$ 57,30\n",
      "max: R$ 138.750,90\n",
      "\n",
      "Grupo Target:\n",
      "count: 1.727.049\n",
      "mean: R$ 47,74\n",
      "std: R$ 46,97\n",
      "min: R$ 0,00\n",
      "25%: R$ 26,90\n",
      "50%: R$ 39,80\n",
      "75%: R$ 57,40\n",
      "max: R$ 35.988,00\n"
     ]
    }
   ],
   "source": [
    "# Estatísticas descritivas do valor total dos pedidos para cada grupo, formatadas\n",
    "def describe_format(series):\n",
    "    desc = series.describe()\n",
    "    return (\n",
    "        f\"count: {int(desc['count']):,}\\n\"\n",
    "        f\"mean: R$ {desc['mean']:,.2f}\\n\"\n",
    "        f\"std: R$ {desc['std']:,.2f}\\n\"\n",
    "        f\"min: R$ {desc['min']:,.2f}\\n\"\n",
    "        f\"25%: R$ {desc['25%']:,.2f}\\n\"\n",
    "        f\"50%: R$ {desc['50%']:,.2f}\\n\"\n",
    "        f\"75%: R$ {desc['75%']:,.2f}\\n\"\n",
    "        f\"max: R$ {desc['max']:,.2f}\"\n",
    "    ).replace(\",\", \"X\").replace(\".\", \",\").replace(\"X\", \".\")\n",
    "\n",
    "print(\"Grupo Controle:\")\n",
    "print(describe_format(controle['order_total_amount']))\n",
    "print(\"\\nGrupo Target:\")\n",
    "print(describe_format(target['order_total_amount']))"
   ]
  },
  {
   "cell_type": "markdown",
   "id": "2155de7d",
   "metadata": {},
   "source": [
    "#### **Observações**\n",
    "\n",
    "Médias próximas, mediana distante da media, assimetria positiva, distribuição com cauda longa.<br>\n",
    "75% dos usuários gastam até 60 reais, em ambos os grupos."
   ]
  },
  {
   "cell_type": "markdown",
   "id": "481e314a",
   "metadata": {},
   "source": [
    "fazer a distribuição normal dos dados (histograma)\n",
    "dados nao são normais, logo : fazer testes não paramétricos\n",
    "dados independentes"
   ]
  },
  {
   "cell_type": "code",
   "execution_count": 32,
   "id": "bc5b2629",
   "metadata": {},
   "outputs": [
    {
     "name": "stdout",
     "output_type": "stream",
     "text": [
      "Estatística de teste: 0.0344\n",
      "Valor p: 0.0000\n",
      "Há evidência suficiente para rejeitar a hipótese de normalidade (os dados não parecem normalmente distribuídos).\n"
     ]
    }
   ],
   "source": [
    "# Importando a biblioteca necessária\n",
    "from scipy.stats import shapiro\n",
    "\n",
    "# Exemplo de dados\n",
    "dados = controle['order_total_amount']\n",
    "\n",
    "# Realizando o Teste de Shapiro-Wilk\n",
    "stat, p_value = shapiro(dados)\n",
    "\n",
    "# Saída dos resultados\n",
    "print(f'Estatística de teste: {stat:.4f}')\n",
    "print(f'Valor p: {p_value:.4f}')\n",
    "\n",
    "# Interpretação\n",
    "alpha = 0.05\n",
    "if p_value > alpha:\n",
    " print(\"Não há evidências suficientes para rejeitar a hipótese de normalidade (os dados parecem normalmente distribuídos).\")\n",
    "else:\n",
    " print(\"Há evidência suficiente para rejeitar a hipótese de normalidade (os dados não parecem normalmente distribuídos).\")\n",
    "\n",
    " # vou ter que usar um teste não paramétrico, o teste de Mann-Whitney"
   ]
  },
  {
   "cell_type": "code",
   "execution_count": 26,
   "id": "02ee8c96",
   "metadata": {},
   "outputs": [
    {
     "name": "stdout",
     "output_type": "stream",
     "text": [
      "Grupo Controle:\n",
      "count: 1.525.576\n",
      "mean: R$ 47,90\n",
      "std: R$ 165,05\n",
      "min: R$ 0,00\n",
      "25%: R$ 26,99\n",
      "50%: R$ 39,90\n",
      "75%: R$ 57,30\n",
      "max: R$ 138.750,90\n",
      "\n",
      "Grupo Target:\n",
      "count: 1.727.049\n",
      "mean: R$ 47,74\n",
      "std: R$ 46,97\n",
      "min: R$ 0,00\n",
      "25%: R$ 26,90\n",
      "50%: R$ 39,80\n",
      "75%: R$ 57,40\n",
      "max: R$ 35.988,00\n"
     ]
    }
   ],
   "source": [
    "# Estatísticas descritivas do valor total dos pedidos para cada grupo, formatadas\n",
    "def describe_format(series):\n",
    "    desc = series.describe()\n",
    "    return (\n",
    "        f\"count: {int(desc['count']):,}\\n\"\n",
    "        f\"mean: R$ {desc['mean']:,.2f}\\n\"\n",
    "        f\"std: R$ {desc['std']:,.2f}\\n\"\n",
    "        f\"min: R$ {desc['min']:,.2f}\\n\"\n",
    "        f\"25%: R$ {desc['25%']:,.2f}\\n\"\n",
    "        f\"50%: R$ {desc['50%']:,.2f}\\n\"\n",
    "        f\"75%: R$ {desc['75%']:,.2f}\\n\"\n",
    "        f\"max: R$ {desc['max']:,.2f}\"\n",
    "    ).replace(\",\", \"X\").replace(\".\", \",\").replace(\"X\", \".\")\n",
    "\n",
    "print(\"Grupo Controle:\")\n",
    "print(describe_format(controle['order_total_amount']))\n",
    "print(\"\\nGrupo Target:\")\n",
    "print(describe_format(target['order_total_amount']))"
   ]
  },
  {
   "cell_type": "code",
   "execution_count": 14,
   "id": "389a2897",
   "metadata": {},
   "outputs": [
    {
     "data": {
      "image/png": "[encoded data removed]",
      "text/plain": [
       "<Figure size 1200x500 with 1 Axes>"
      ]
     },
     "metadata": {},
     "output_type": "display_data"
    }
   ],
   "source": [
    "plt.figure(figsize=(12, 5))\n",
    "\n",
    "# plt.hist(controle['order_total_amount'][controle['order_total_amount'] <= 3000], bins=50, alpha=0.6, label='Controle', color='blue')\n",
    "plt.hist(target['order_total_amount'][target['order_total_amount'] <= 3000], bins=50, alpha=0.6, label='Target', color='orange')\n",
    "\n",
    "plt.xlabel('Valor do Pedido')\n",
    "plt.ylabel('Frequência')\n",
    "plt.title('Histograma do Valor dos Pedidos por Grupo (até R$3000)')\n",
    "plt.legend()\n",
    "plt.show()"
   ]
  },
  {
   "cell_type": "markdown",
   "id": "004fdeac",
   "metadata": {},
   "source": [
    "### Validando normalidade dos dados - Teste de Shapiro-Wilk\n",
    "\n",
    "É importante entender a distribuição normal dos dados para definir o teste mais correto a se aplicar."
   ]
  },
  {
   "cell_type": "code",
   "execution_count": 33,
   "id": "90ea05d1",
   "metadata": {},
   "outputs": [
    {
     "name": "stdout",
     "output_type": "stream",
     "text": [
      "Estatística de teste: 0.0344\n",
      "Valor p: 0.0000\n",
      "Há evidência suficiente para rejeitar a hipótese de normalidade (os dados não parecem normalmente distribuídos).\n"
     ]
    }
   ],
   "source": [
    "# Importando a biblioteca necessária\n",
    "from scipy.stats import shapiro\n",
    "\n",
    "# Exemplo de dados\n",
    "dados = controle['order_total_amount']\n",
    "\n",
    "# Realizando o Teste de Shapiro-Wilk\n",
    "stat, p_value = shapiro(dados)\n",
    "\n",
    "# Saída dos resultados\n",
    "print(f'Estatística de teste: {stat:.4f}')\n",
    "print(f'Valor p: {p_value:.4f}')\n",
    "\n",
    "# Interpretação\n",
    "alpha = 0.05\n",
    "if p_value > alpha:\n",
    " print(\"Não há evidências suficientes para rejeitar a hipótese de normalidade (os dados parecem normalmente distribuídos).\")\n",
    "else:\n",
    " print(\"Há evidência suficiente para rejeitar a hipótese de normalidade (os dados não parecem normalmente distribuídos).\")\n",
    "\n",
    " # vou ter que usar um teste não paramétrico, o teste de Mann-Whitney"
   ]
  },
  {
   "cell_type": "markdown",
   "id": "66d2b483",
   "metadata": {},
   "source": [
    "### Realizando o teste de Mann-Whitney\n",
    "\n",
    "Como se tratam de dados fora da distribuição normal, utilizaremos o teste de Mann-Whitney"
   ]
  },
  {
   "cell_type": "code",
   "execution_count": 37,
   "id": "b9a209bc",
   "metadata": {},
   "outputs": [
    {
     "name": "stdout",
     "output_type": "stream",
     "text": [
      "Estatística U: 1319038833769.5\n",
      "Valor p: 0.048596\n",
      "Há diferença estatisticamente significativa entre os grupos A e B.\n",
      "A hipótese nula do teste (que não há diferença entre os grupos) foi rejeitada. Logo, é razoável concluir que a campanha teve algum efeito que gerou uma diferença nos comportamentos observados entre os dois grupos.\n"
     ]
    }
   ],
   "source": [
    "# Importando a biblioteca necessária\n",
    "from scipy.stats import mannwhitneyu\n",
    "\n",
    "# Suponha que você tenha seus dados em duas listas ou arrays\n",
    "# Exemplo fictício (substitua pelos seus dados reais)\n",
    "grupo_A = controle['order_total_amount']\n",
    "grupo_B = target['order_total_amount']\n",
    "\n",
    "# Realizando o teste de Mann-Whitney U\n",
    "stat, p_value = mannwhitneyu(grupo_A, grupo_B, alternative='two-sided')\n",
    "\n",
    "# Saída dos resultados\n",
    "print(f'Estatística U: {stat}')\n",
    "print(f'Valor p: {p_value:.6f}')\n",
    "\n",
    "# Interpretação\n",
    "alpha = 0.05\n",
    "if p_value < alpha:\n",
    " print(\"Há diferença estatisticamente significativa entre os grupos A e B.\")\n",
    " print(\"A hipótese nula do teste (que não há diferença entre os grupos) foi rejeitada. Logo, é razoável concluir que a campanha teve algum efeito que gerou uma diferença nos comportamentos observados entre os dois grupos.\")\n",
    "else:\n",
    " print(\"Não há diferença estatisticamente significativa entre os grupos A e B.\")\n",
    " "
   ]
  },
  {
   "cell_type": "code",
   "execution_count": null,
   "id": "7cdf5c5f",
   "metadata": {},
   "outputs": [],
   "source": [
    "# Análise estatística (teste t)\n",
    "## Comparar o valor médio dos pedidos entre os dois grupos.\n",
    "t_stat, p_value = stats.ttest_ind(target['order_total_amount'], controle['order_total_amount'])"
   ]
  },
  {
   "cell_type": "code",
   "execution_count": 11,
   "id": "d2caf418",
   "metadata": {},
   "outputs": [
    {
     "name": "stdout",
     "output_type": "stream",
     "text": [
      "Estatísticas do teste t: \n",
      "t-stat = -1.2265, p-value = 0.2200\n",
      "A campanha não teve impacto significativo.\n"
     ]
    }
   ],
   "source": [
    "print(f\"Estatísticas do teste t: \\nt-stat = {t_stat:.4f}, p-value = {p_value:.4f}\")\n",
    "\n",
    "# Concluir se a campanha teve impacto significativo\n",
    "## Valor positivo (t > 0): Indica que a média do grupo de teste é maior que a do grupo de controle.\n",
    "## Valor negativo (t < 0): Indica que a média do grupo de controle é maior que a do grupo de teste.\n",
    "## Valor t = 0: Significa que não há diferença entre as médias dos dois grupos.\n",
    "\n",
    "if p_value < 0.05:\n",
    "    print(\"A campanha teve um impacto significativo.\")\n",
    "else:\n",
    "    print(\"A campanha não teve impacto significativo.\")"
   ]
  },
  {
   "cell_type": "markdown",
   "id": "9c149b49",
   "metadata": {},
   "source": [
    "### Interpretação dos dados\n",
    "\n",
    "Média de pedidos por usuário grupo controle: 4,23<br>\n",
    "Média de pedidos por usuário grupo target: 4,79\n",
    "\n",
    "Soma do total dos pedidos grupo controle: 73.071.872,88<br>\n",
    "Soma do total dos pedidos grupo target: 82.444.051,85<br>\n",
    "Diff: target - controle = 9.372.178,97\n",
    "\n",
    "Valor médio gasto por usuário grupo controle: 48,01<br>\n",
    "Valor médio gasto por usuário grupo target: 47,87\n",
    "\n",
    "\n",
    "___\n",
    "\n",
    "Considerando os dados acima, vemos que o grupo target fez em média mais pedidos, a um valor médio por pedido menor que o grupo controle que não recebeu cupons, resultando em um somatório 9.372 milhões de reais gastos a mais que o grupo controle. Isso indica que por receber mais incentivo de compras os usuários acabaram consumindo mais dentro do app, porém não gastaram mais do que pretendiam por causa do cupom."
   ]
  },
  {
   "cell_type": "markdown",
   "id": "8254346c",
   "metadata": {},
   "source": [
    "# Questão 1 - B:\n",
    "\n",
    "Faça uma análise de viabilidade financeira dessa iniciativa como alavanca de crescimento, adotando as premissas que julgar necessárias (explicite as premissas adotadas)."
   ]
  },
  {
   "cell_type": "markdown",
   "id": "5f020cb1",
   "metadata": {},
   "source": [
    "### Premissas:\n",
    "Valor médio do cupom: 10%\n",
    "\n",
    "O cupom de 10% foi o único fator de diferenciação entre o grupo controle e o grupo target.\n",
    "\n",
    "O impacto no grupo target pode ser medido pela diferença de vendas em relação ao grupo controle.\n",
    "\n",
    "Nenhum outro fator externo (como sazonalidade, outras promoções, etc.) impactou diretamente os resultados.\n",
    "\n",
    "O valor total de pedidos foi utilizado para medir o sucesso da campanha.\n",
    "\n",
    "O custo do cupom foi considerado diretamente no cálculo do investimento da campanha."
   ]
  },
  {
   "cell_type": "code",
   "execution_count": 149,
   "id": "771b0af6",
   "metadata": {},
   "outputs": [
    {
     "name": "stdout",
     "output_type": "stream",
     "text": [
      "total_pedidos_controle: 73,071,872.88\n",
      "total_pedidos_target: 82,444,051.85\n",
      "lucro_target_sem_cupom: 91,604,502.06\n",
      "diferenca_total_pedidos: 9,372,178.97\n",
      "investimento_cupom: 9,160,450.21\n",
      "lucro_real: 211,728.76\n"
     ]
    }
   ],
   "source": [
    "# Calcular o valor total de pedidos do grupo controle e do grupo target\n",
    "total_pedidos_controle = controle['order_total_amount'].sum()\n",
    "total_pedidos_target = target['order_total_amount'].sum()\n",
    "\n",
    "# Valor total de pedidos do grupo target em relação ao grupo controle\n",
    "diferenca_total_pedidos = total_pedidos_target - total_pedidos_controle\n",
    "\n",
    "# Calcular o valor total de pedidos do grupo target desconsiderando o cupom\n",
    "lucro_target_sem_cupom = target['order_total_amount'].sum() / 0.9  # Considerando o cupom de 10%\n",
    "\n",
    "# Entender quanto o iFood investiu em cupons pra oferecer os 10% de desconto\n",
    "investimento_cupom = lucro_target_sem_cupom - total_pedidos_target\n",
    "\n",
    "# Calcular o lucro real considerando o investimento em cupons\n",
    "lucro_real = diferenca_total_pedidos - investimento_cupom\n",
    "\n",
    "print(f\"total_pedidos_controle: {total_pedidos_controle:,.2f}\")\n",
    "print(f\"total_pedidos_target: {total_pedidos_target:,.2f}\")\n",
    "print(f\"lucro_target_sem_cupom: {lucro_target_sem_cupom:,.2f}\")\n",
    "print(f\"diferenca_total_pedidos: {diferenca_total_pedidos:,.2f}\")\n",
    "print(f\"investimento_cupom: {investimento_cupom:,.2f}\")\n",
    "print(f\"lucro_real: {lucro_real:,.2f}\")\n"
   ]
  },
  {
   "cell_type": "markdown",
   "id": "c0c616a9",
   "metadata": {},
   "source": [
    "### Viabilidade Financeira\n",
    "\n",
    "1. O iFood gastou R$ 9,16 milhões com os cupons para gerar mais vendas no grupo target. Esse é o custo da campanha.\n",
    "2. O valor de vendas gerado no grupo target foi R$ 9,37 milhões a mais em comparação com o grupo controle. Isso mostra que a campanha teve impacto positivo nas vendas.\n",
    "3. Mesmo considerando o custo do cupom, o lucro da campanha foi de R$ 211.728,76.\n",
    "4. ROI (return of investiment): 2,26%\n",
    "\n",
    "Embora o lucro real da campanha seja relativamente pequeno (R$ 211 mil), a campanha de cupons foi financeiramente viável como alavanca de crescimento, pois gerou R$ 9,37 milhões adicionais em vendas. O objetivo dessa campanha era principalmente retenção de usuários, que pode ser considerado como atingido, pois, os clientes mais uma vez optaram por fazer compras no iFood, alimentando um hábito e o sentimento de confiança contribuindo também para a lealdade do usuário."
   ]
  },
  {
   "cell_type": "markdown",
   "id": "51a794a8",
   "metadata": {},
   "source": [
    "# Questão 1 - C:\n",
    "\n",
    "Recomende oportunidades de melhoria nessa ação e desenhe uma nova proposta de teste A/B para validar essas hipóteses."
   ]
  },
  {
   "cell_type": "markdown",
   "id": "81afabce",
   "metadata": {},
   "source": [
    "## Oportunidades de melhoria \n",
    "\n",
    "1. **Hipótese:** Implementação de descontos progressivos com base no valor da compra aumenta a retenção e impacto financeiro.\n",
    "\n",
    "    **Objetivo:** Avaliar se as faixas de desconto promovem maior engajamento do usuário, aumentando valor gasto e média de pedidos por usuário, promovendo retenção.\n",
    "\n",
    "    ### **Teste A/B**\n",
    "\n",
    "    **Grupo A (Controle):** Cupom de 10% para todos os usuários.\n",
    "\n",
    "    **Grupo B (Teste):**  \n",
    "    Desconto progressivo:  \n",
    "    - 5% para compras até R$ 50  \n",
    "    - 10% para compras entre R$ 50 e R$ 100  \n",
    "    - 15% para compras acima de R$ 100\n",
    "\n",
    "    **Métricas a serem avaliadas para cada grupo:**\n",
    "    - Valor médio do pedido\n",
    "    - Quantidade média de pedidos por usuário\n",
    "    - Gasto total por grupo"
   ]
  },
  {
   "cell_type": "markdown",
   "id": "ea7ec5af",
   "metadata": {},
   "source": [
    "2. **Hipótese:** Colocar um prazo para uso dos cupons pode gerar um sentimento de urgência, levando os usuários a não esperarem muito tempo para comprar novamente, aumentando os indicadores.\n",
    "\n",
    "\n",
    "    **Objetivo:** Dessa forma podemos avaliar se a validade do cupom aumenta engajamento, conversão e qual período de validade gera maior taxa de uso do cupom.\n",
    "\n",
    "    ### **Teste A/B**\n",
    "\n",
    "    **Grupo A (Controle):** Cupom de 10% sem validade.\n",
    "\n",
    "    **Grupo B (Teste):** Cupom de 10% válido por 3 dias para todos os usuários.\n",
    "\n",
    "    **Grupo C (Teste):** Cupom de 10% válido por 7 dias para todos os usuários.\n",
    "\n",
    "    **Métricas a serem avaliadas:**\n",
    "    - Valor médio do pedido\n",
    "    - Quantidade média de pedidos por usuário\n",
    "    - Gasto total por grupo\n"
   ]
  },
  {
   "cell_type": "markdown",
   "id": "c30bd1d6",
   "metadata": {},
   "source": [
    "3. **Hipótese:** Cupons mais agressivos para clientes inativos aumenta engajamento e retenção.\n",
    "\n",
    "    **Objetivo:** Avaliar qual faixa de desconto retém mais os usuários inativos.\n",
    "\n",
    "    ### **Teste A/B**\n",
    "\n",
    "    **Grupo A (Controle):** 1 cupom de 5% para usuários sem compras nos últimos 30 dias.\n",
    "\n",
    "    **Grupo B (Teste):** 1 cupom de 10% para usuários sem compras nos últimos 30 dias.\n",
    "\n",
    "    **Grupo C (Teste):** 1 cupom de 15% para usuários sem compras nos últimos 30 dias.\n",
    "\n",
    "    **Métricas a serem avaliadas:**\n",
    "    - Quantidade média de pedidos por usuário\n",
    "    - Gasto total por grupo"
   ]
  },
  {
   "cell_type": "markdown",
   "id": "bf96d13a",
   "metadata": {},
   "source": [
    "4. **Hipótese:** Oferecer um cupom que pode ser usado várias vezes ao longo de 1 mês, ao invés de apenas um cupom único, aumenta o engajamento e o impacto financeiro, incentivando os usuários a realizarem mais compras e aumentando a retenção.\n",
    "\n",
    "    **Objetivo:** Avaliar se a quantidade de pedidos por usuário aumenta ou diminui ao longo do tempo após a oferta, ou seja, nos permite avaliar retenção.\n",
    "\n",
    "    ### **Teste A/B**\n",
    "\n",
    "    **Grupo A (Controle):** Cupom de 10% de uso único para todos os usuários.\n",
    "\n",
    "    **Grupo B (Teste):** Cupom de 10% que pode ser usado 3x ao longo de 30 dias.\n",
    "\n",
    "    **Métricas a serem avaliadas para cada grupo:**\n",
    "    - Valor médio do pedido\n",
    "    - Quantidade média de pedidos por usuário\n",
    "    - Gasto total por grupo\n"
   ]
  }
 ],
 "metadata": {
  "kernelspec": {
   "display_name": "Python 3",
   "language": "python",
   "name": "python3"
  },
  "language_info": {
   "codemirror_mode": {
    "name": "ipython",
    "version": 3
   },
   "file_extension": ".py",
   "mimetype": "text/x-python",
   "name": "python",
   "nbconvert_exporter": "python",
   "pygments_lexer": "ipython3",
   "version": "3.12.10"
  }
 },
 "nbformat": 4,
 "nbformat_minor": 5
}
