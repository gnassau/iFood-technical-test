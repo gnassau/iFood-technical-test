{
 "cells": [
  {
   "cell_type": "markdown",
   "id": "31e7cb9e",
   "metadata": {},
   "source": [
    "# Carregar no GCP\n",
    "\n",
    "Esse notebook foi necessário para carregar os dados no Google Cloud Platform, remover informações que não seriam utilizadas na análise via SQL, e por fim puxá-las de volta localmente salvando assim os dados remanescentes em formato csv para melhor manipulação."
   ]
  },
  {
   "cell_type": "markdown",
   "id": "10ef9829",
   "metadata": {},
   "source": [
    "## Ingerindo dados de ab_test_ref.csv"
   ]
  },
  {
   "cell_type": "code",
   "execution_count": null,
   "id": "86b416c7",
   "metadata": {},
   "outputs": [
    {
     "name": "stdout",
     "output_type": "stream",
     "text": [
      "Dados carregados com sucesso!\n"
     ]
    }
   ],
   "source": [
    "import pandas as pd\n",
    "from sqlalchemy import create_engine\n",
    "\n",
    "# Caminho do arquivo CSV\n",
    "csv_file = 'ab_test_ref.csv'\n",
    "\n",
    "# Dados do banco de dados (substitua com suas credenciais)\n",
    "db_user = 'postgres'\n",
    "db_password = '1234'\n",
    "db_host = '104.154.71.21'  # Pode ser o endereço IP do servidor ou o hostname\n",
    "db_port = '5432'  # Porta padrão do PostgreSQL\n",
    "db_name = 'postgres'\n",
    "\n",
    "# Conectar ao banco de dados no GCP usando psycopg2-binary\n",
    "connection_string = f'postgresql://{db_user}:{db_password}@{db_host}:{db_port}/{db_name}'\n",
    "engine = create_engine(connection_string)\n",
    "\n",
    "# Carregar os dados do CSV\n",
    "df = pd.read_csv(csv_file)\n",
    "\n",
    "# Inserir os dados na tabela do PostgreSQL\n",
    "df.to_sql('ab_test', engine, if_exists='replace', index=False)\n",
    "\n",
    "print(\"Dados carregados com sucesso!\")\n",
    "\n",
    "\n"
   ]
  },
  {
   "cell_type": "markdown",
   "id": "e13bdd56",
   "metadata": {},
   "source": [
    "## Ingerindo dados de order.json"
   ]
  },
  {
   "cell_type": "code",
   "execution_count": 6,
   "id": "efb5c3d4",
   "metadata": {},
   "outputs": [
    {
     "name": "stdout",
     "output_type": "stream",
     "text": [
      "Chunk 1 carregado com sucesso!\n",
      "Chunk 2 carregado com sucesso!\n",
      "Chunk 3 carregado com sucesso!\n",
      "Chunk 4 carregado com sucesso!\n",
      "Chunk 5 carregado com sucesso!\n",
      "Chunk 6 carregado com sucesso!\n",
      "Chunk 7 carregado com sucesso!\n",
      "Chunk 8 carregado com sucesso!\n",
      "Chunk 9 carregado com sucesso!\n",
      "Chunk 10 carregado com sucesso!\n",
      "Chunk 11 carregado com sucesso!\n",
      "Chunk 12 carregado com sucesso!\n",
      "Chunk 13 carregado com sucesso!\n",
      "Chunk 14 carregado com sucesso!\n",
      "Chunk 15 carregado com sucesso!\n",
      "Chunk 16 carregado com sucesso!\n",
      "Chunk 17 carregado com sucesso!\n",
      "Chunk 18 carregado com sucesso!\n",
      "Chunk 19 carregado com sucesso!\n",
      "Chunk 20 carregado com sucesso!\n",
      "Chunk 21 carregado com sucesso!\n",
      "Chunk 22 carregado com sucesso!\n",
      "Chunk 23 carregado com sucesso!\n",
      "Chunk 24 carregado com sucesso!\n",
      "Chunk 25 carregado com sucesso!\n",
      "Chunk 26 carregado com sucesso!\n",
      "Chunk 27 carregado com sucesso!\n",
      "Chunk 28 carregado com sucesso!\n",
      "Chunk 29 carregado com sucesso!\n",
      "Chunk 30 carregado com sucesso!\n",
      "Chunk 31 carregado com sucesso!\n",
      "Chunk 32 carregado com sucesso!\n",
      "Chunk 33 carregado com sucesso!\n",
      "Chunk 34 carregado com sucesso!\n",
      "Chunk 35 carregado com sucesso!\n",
      "Chunk 36 carregado com sucesso!\n",
      "Chunk 37 carregado com sucesso!\n",
      "Chunk 38 carregado com sucesso!\n",
      "Chunk 39 carregado com sucesso!\n",
      "Chunk 40 carregado com sucesso!\n",
      "Chunk 41 carregado com sucesso!\n",
      "Todos os dados foram carregados com sucesso!\n"
     ]
    }
   ],
   "source": [
    "import pandas as pd\n",
    "from sqlalchemy import create_engine\n",
    "\n",
    "# Caminho do arquivo JSON\n",
    "json_file = 'order.json'\n",
    "checkpoint_file = 'checkpoint.txt'\n",
    "\n",
    "# Dados do banco de dados (substitua com suas credenciais)\n",
    "db_user = 'postgres'\n",
    "db_password = '1234'\n",
    "db_host = '104.154.71.21'  # Pode ser o endereço IP do servidor ou o hostname\n",
    "db_port = '5432'  # Porta padrão do PostgreSQL\n",
    "db_name = 'postgres'\n",
    "\n",
    "# Conectar ao banco de dados no GCP usando psycopg2-binary\n",
    "connection_string = f'postgresql://{db_user}:{db_password}@{db_host}:{db_port}/{db_name}'\n",
    "engine = create_engine(connection_string)\n",
    "\n",
    "# Definir o tamanho do chunk\n",
    "chunk_size = 90000  # Ajuste conforme necessário (ex: 10000 linhas por vez)\n",
    "\n",
    "# Função para verificar o último checkpoint\n",
    "def get_last_checkpoint():\n",
    "    try:\n",
    "        with open(checkpoint_file, 'r') as file:\n",
    "            last_chunk = int(file.read().strip())\n",
    "    except FileNotFoundError:\n",
    "        last_chunk = 0  # Caso não exista, começamos do início\n",
    "    return last_chunk\n",
    "\n",
    "# Função para salvar o checkpoint\n",
    "def save_checkpoint(chunk_index):\n",
    "    with open(checkpoint_file, 'w') as file:\n",
    "        file.write(str(chunk_index))\n",
    "\n",
    "# Lê o arquivo JSON em pedaços (chunks) e insere no banco de dados\n",
    "# Pular os chunks já processados anteriormente\n",
    "last_checkpoint = get_last_checkpoint()\n",
    "\n",
    "# Pular os chunks já carregados\n",
    "for chunk_index, chunk in enumerate(pd.read_json(json_file, orient='records', lines=True, chunksize=chunk_size), start=1):\n",
    "    if chunk_index <= last_checkpoint:\n",
    "        continue  # Pular chunks já processados\n",
    "\n",
    "    # Inserir os dados no banco de dados\n",
    "    chunk.to_sql('order', engine, if_exists='append', index=False)\n",
    "\n",
    "    # Salvar o progresso\n",
    "    save_checkpoint(chunk_index)\n",
    "    print(f\"Chunk {chunk_index} carregado com sucesso!\")\n",
    "\n",
    "print(\"Todos os dados foram carregados com sucesso!\")\n"
   ]
  }
 ],
 "metadata": {
  "kernelspec": {
   "display_name": ".venv",
   "language": "python",
   "name": "python3"
  },
  "language_info": {
   "codemirror_mode": {
    "name": "ipython",
    "version": 3
   },
   "file_extension": ".py",
   "mimetype": "text/x-python",
   "name": "python",
   "nbconvert_exporter": "python",
   "pygments_lexer": "ipython3",
   "version": "3.12.10"
  }
 },
 "nbformat": 4,
 "nbformat_minor": 5
}
